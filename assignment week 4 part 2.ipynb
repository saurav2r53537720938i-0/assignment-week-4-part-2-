{
 "cells": [
  {
   "cell_type": "code",
   "execution_count": 2,
   "id": "86a8f48e-7638-4225-b629-50166e02ce65",
   "metadata": {},
   "outputs": [],
   "source": [
    "class Car:\n",
    "    def __init__(self,brand,model,year):\n",
    "        self.brand = brand\n",
    "        self.model = model\n",
    "        self.year = year\n",
    "        self.is_runming = False"
   ]
  },
  {
   "cell_type": "code",
   "execution_count": 5,
   "id": "b2f1ff2f-6f0c-44b7-af64-643a8f5e3e90",
   "metadata": {},
   "outputs": [],
   "source": [
    "def start_engine(self):\n",
    "    if not self.is_running:\n",
    "        print(f\"The {self.year}{self.brnd}{self.model}'s engine is now running.\")\n",
    "        self.is_running = True\n",
    "    else:\n",
    "        print(\"The engine is already running.\")\n",
    "        "
   ]
  },
  {
   "cell_type": "code",
   "execution_count": 6,
   "id": "f73220eb-7864-458c-8557-fe70d609d9f1",
   "metadata": {},
   "outputs": [],
   "source": [
    "def stop_engine(self):\n",
    "    if self.is_running:\n",
    "        print(f\"The {self.year}{self.brand} {self.model}'s engine is now stopped.\")\n",
    "        self.is_running = False\n",
    "    else:\n",
    "        print(\"The engine is already stopped.\")"
   ]
  },
  {
   "cell_type": "code",
   "execution_count": 8,
   "id": "0c0fe256-9e37-4de6-81d0-12f3435d3faf",
   "metadata": {},
   "outputs": [],
   "source": [
    "car1 = Car(brand = \"Toyata\",model =\"camry\", year = 2022)"
   ]
  },
  {
   "cell_type": "code",
   "execution_count": 9,
   "id": "bf4d18b5-ea26-42d7-baf9-fb53b7ab985d",
   "metadata": {},
   "outputs": [],
   "source": [
    "car2 = Car(brand = \"Honda\",model = \"Civic\", year = 2021)"
   ]
  },
  {
   "cell_type": "code",
   "execution_count": 10,
   "id": "e85297d6-d9bb-4cfb-8044-1db695860af9",
   "metadata": {},
   "outputs": [
    {
     "ename": "AttributeError",
     "evalue": "'Car' object has no attribute 'start_engine'",
     "output_type": "error",
     "traceback": [
      "\u001b[0;31m---------------------------------------------------------------------------\u001b[0m",
      "\u001b[0;31mAttributeError\u001b[0m                            Traceback (most recent call last)",
      "Cell \u001b[0;32mIn[10], line 1\u001b[0m\n\u001b[0;32m----> 1\u001b[0m \u001b[43mcar1\u001b[49m\u001b[38;5;241;43m.\u001b[39;49m\u001b[43mstart_engine\u001b[49m()\n",
      "\u001b[0;31mAttributeError\u001b[0m: 'Car' object has no attribute 'start_engine'"
     ]
    }
   ],
   "source": [
    "car1.start_engine()"
   ]
  },
  {
   "cell_type": "code",
   "execution_count": 11,
   "id": "02987f7a-94f9-4e8b-bb56-650492a6c198",
   "metadata": {},
   "outputs": [
    {
     "ename": "AttributeError",
     "evalue": "'Car' object has no attribute 'start_engine'",
     "output_type": "error",
     "traceback": [
      "\u001b[0;31m---------------------------------------------------------------------------\u001b[0m",
      "\u001b[0;31mAttributeError\u001b[0m                            Traceback (most recent call last)",
      "Cell \u001b[0;32mIn[11], line 1\u001b[0m\n\u001b[0;32m----> 1\u001b[0m \u001b[43mcar2\u001b[49m\u001b[38;5;241;43m.\u001b[39;49m\u001b[43mstart_engine\u001b[49m()\n",
      "\u001b[0;31mAttributeError\u001b[0m: 'Car' object has no attribute 'start_engine'"
     ]
    }
   ],
   "source": [
    "car2.start_engine()"
   ]
  },
  {
   "cell_type": "code",
   "execution_count": 12,
   "id": "ea4c36a9-6ca8-431a-b640-a18a9a60306e",
   "metadata": {},
   "outputs": [
    {
     "ename": "AttributeError",
     "evalue": "'Car' object has no attribute 'stop_engine'",
     "output_type": "error",
     "traceback": [
      "\u001b[0;31m---------------------------------------------------------------------------\u001b[0m",
      "\u001b[0;31mAttributeError\u001b[0m                            Traceback (most recent call last)",
      "Cell \u001b[0;32mIn[12], line 1\u001b[0m\n\u001b[0;32m----> 1\u001b[0m \u001b[43mcar1\u001b[49m\u001b[38;5;241;43m.\u001b[39;49m\u001b[43mstop_engine\u001b[49m()\n",
      "\u001b[0;31mAttributeError\u001b[0m: 'Car' object has no attribute 'stop_engine'"
     ]
    }
   ],
   "source": [
    "car1.stop_engine()"
   ]
  },
  {
   "cell_type": "code",
   "execution_count": 20,
   "id": "7b394a10-db65-47c2-b1e3-0a512caffaac",
   "metadata": {},
   "outputs": [
    {
     "ename": "AttributeError",
     "evalue": "'Car' object has no attribute 'stop_engine'",
     "output_type": "error",
     "traceback": [
      "\u001b[0;31m---------------------------------------------------------------------------\u001b[0m",
      "\u001b[0;31mAttributeError\u001b[0m                            Traceback (most recent call last)",
      "Cell \u001b[0;32mIn[20], line 1\u001b[0m\n\u001b[0;32m----> 1\u001b[0m \u001b[43mcar2\u001b[49m\u001b[38;5;241;43m.\u001b[39;49m\u001b[43mstop_engine\u001b[49m()\n",
      "\u001b[0;31mAttributeError\u001b[0m: 'Car' object has no attribute 'stop_engine'"
     ]
    }
   ],
   "source": [
    "car2.stop_engine()"
   ]
  },
  {
   "cell_type": "markdown",
   "id": "51f9e822-dd71-4b6c-a2e9-f13f9a033208",
   "metadata": {},
   "source": [
    "#there are four pillars of oops"
   ]
  },
  {
   "cell_type": "code",
   "execution_count": 15,
   "id": "0a03a0c1-c97c-422d-bb84-37ce3c3fd098",
   "metadata": {},
   "outputs": [],
   "source": [
    "#Encapsulation"
   ]
  },
  {
   "cell_type": "code",
   "execution_count": 16,
   "id": "453effa7-a2b5-4980-96be-1b10bd59fe1a",
   "metadata": {},
   "outputs": [],
   "source": [
    "#Abstraction "
   ]
  },
  {
   "cell_type": "code",
   "execution_count": 17,
   "id": "5a537bf9-e100-4ba1-88e0-bdcf517333d8",
   "metadata": {},
   "outputs": [],
   "source": [
    "#Inheritance"
   ]
  },
  {
   "cell_type": "code",
   "execution_count": 18,
   "id": "78e7d308-5ab2-449c-9e65-c06e11884eee",
   "metadata": {},
   "outputs": [],
   "source": [
    "#Polymorphism"
   ]
  },
  {
   "cell_type": "code",
   "execution_count": 19,
   "id": "6bcf9618-bbda-4b4d-b2c8-5420f952cd86",
   "metadata": {},
   "outputs": [],
   "source": [
    "class Person:\n",
    "    def __init__(self,name,age):\n",
    "        self.name = name\n",
    "        self.age  = age"
   ]
  },
  {
   "cell_type": "code",
   "execution_count": 21,
   "id": "8011d2d3-4102-400c-85e1-67a8ffa270be",
   "metadata": {},
   "outputs": [],
   "source": [
    "def introduce(self):\n",
    "    return f\"Hi, I'm {self.name},and I'm {self.age} years old.\""
   ]
  },
  {
   "cell_type": "code",
   "execution_count": 22,
   "id": "4d8aac78-ad87-4fb0-917c-e9aa5dd2f2f1",
   "metadata": {},
   "outputs": [],
   "source": [
    "person1 = Person(name=\"Alice\",age = 25)"
   ]
  },
  {
   "cell_type": "code",
   "execution_count": 23,
   "id": "afa3e43a-2621-4d93-a9a7-56071a63c119",
   "metadata": {},
   "outputs": [
    {
     "name": "stdout",
     "output_type": "stream",
     "text": [
      "Alice\n"
     ]
    }
   ],
   "source": [
    "print(person1.name)"
   ]
  },
  {
   "cell_type": "code",
   "execution_count": 24,
   "id": "24711b60-90b4-4a6c-a955-bc1f9b8dc0e3",
   "metadata": {},
   "outputs": [
    {
     "name": "stdout",
     "output_type": "stream",
     "text": [
      "25\n"
     ]
    }
   ],
   "source": [
    "print(person1.age)"
   ]
  },
  {
   "cell_type": "code",
   "execution_count": 26,
   "id": "5b88b10d-5f1c-481e-bb00-7a5874966b6b",
   "metadata": {},
   "outputs": [
    {
     "ename": "AttributeError",
     "evalue": "'Person' object has no attribute 'introduce'",
     "output_type": "error",
     "traceback": [
      "\u001b[0;31m---------------------------------------------------------------------------\u001b[0m",
      "\u001b[0;31mAttributeError\u001b[0m                            Traceback (most recent call last)",
      "Cell \u001b[0;32mIn[26], line 1\u001b[0m\n\u001b[0;32m----> 1\u001b[0m \u001b[38;5;28mprint\u001b[39m(\u001b[43mperson1\u001b[49m\u001b[38;5;241;43m.\u001b[39;49m\u001b[43mintroduce\u001b[49m)\n",
      "\u001b[0;31mAttributeError\u001b[0m: 'Person' object has no attribute 'introduce'"
     ]
    }
   ],
   "source": [
    "print(person1.introduce())"
   ]
  },
  {
   "cell_type": "raw",
   "id": "6161fa39-8106-44bc-b74e-f562ac6ceec5",
   "metadata": {},
   "source": [
    "#here are some reason why self is used in oops"
   ]
  },
  {
   "cell_type": "markdown",
   "id": "848cd1d3-7e89-4a0a-8258-3abd4c1cb1aa",
   "metadata": {},
   "source": [
    "# Instance-specfic acess"
   ]
  },
  {
   "cell_type": "code",
   "execution_count": 27,
   "id": "db53a201-14f7-4713-8019-ab4a05d5a857",
   "metadata": {},
   "outputs": [],
   "source": [
    "# Method Inovocation"
   ]
  },
  {
   "cell_type": "code",
   "execution_count": 28,
   "id": "11ae4aa7-24e7-4807-8d88-2fa3d827e325",
   "metadata": {},
   "outputs": [],
   "source": [
    "#Attribute assignment"
   ]
  },
  {
   "cell_type": "code",
   "execution_count": 29,
   "id": "54c24c68-4c44-405f-8ede-53de4f4e5eb1",
   "metadata": {},
   "outputs": [],
   "source": [
    "class MyClass:\n",
    "    def __init__(self,attribute):\n",
    "        self.attribute = attribute"
   ]
  },
  {
   "cell_type": "code",
   "execution_count": 30,
   "id": "f9e2e685-8107-4c3d-b571-ba2e354c8a53",
   "metadata": {},
   "outputs": [],
   "source": [
    "def display_attribute(self):\n",
    "    print(\"Attribute:\",self.attribute)"
   ]
  },
  {
   "cell_type": "code",
   "execution_count": 34,
   "id": "a3d8f9c7-83fa-4058-84ad-a27303897417",
   "metadata": {},
   "outputs": [],
   "source": [
    "obj = MyClass(attribute = \"example\")"
   ]
  },
  {
   "cell_type": "code",
   "execution_count": 35,
   "id": "2bb5953c-59eb-45e1-9944-00d8f3b8ad78",
   "metadata": {},
   "outputs": [
    {
     "ename": "AttributeError",
     "evalue": "'MyClass' object has no attribute 'display_attribute'",
     "output_type": "error",
     "traceback": [
      "\u001b[0;31m---------------------------------------------------------------------------\u001b[0m",
      "\u001b[0;31mAttributeError\u001b[0m                            Traceback (most recent call last)",
      "Cell \u001b[0;32mIn[35], line 1\u001b[0m\n\u001b[0;32m----> 1\u001b[0m \u001b[43mobj\u001b[49m\u001b[38;5;241;43m.\u001b[39;49m\u001b[43mdisplay_attribute\u001b[49m()\n",
      "\u001b[0;31mAttributeError\u001b[0m: 'MyClass' object has no attribute 'display_attribute'"
     ]
    }
   ],
   "source": [
    "obj.display_attribute()"
   ]
  },
  {
   "cell_type": "markdown",
   "id": "fa8703d1-2e19-4a24-8db6-8f400774dd5f",
   "metadata": {},
   "source": [
    "there are 5 types of inheritance"
   ]
  },
  {
   "cell_type": "code",
   "execution_count": 39,
   "id": "7687c753-ec53-47c8-a4a9-6ab5bca2f180",
   "metadata": {},
   "outputs": [],
   "source": [
    "# single inheritance"
   ]
  },
  {
   "cell_type": "code",
   "execution_count": 40,
   "id": "dde76e66-8b17-43e5-9763-9300a4becbee",
   "metadata": {},
   "outputs": [],
   "source": [
    "class Animal:\n",
    "    def speak(self):\n",
    "        print(\"Animal speaks\")"
   ]
  },
  {
   "cell_type": "code",
   "execution_count": 41,
   "id": "41f40bda-f7e6-4892-96df-762e30f593c6",
   "metadata": {},
   "outputs": [],
   "source": [
    "class Dog(Animal):\n",
    "    def bark(self):\n",
    "        print(\"Dog barks\")"
   ]
  },
  {
   "cell_type": "code",
   "execution_count": 42,
   "id": "5e7ca93c-5335-4d8c-b1aa-baf75f8e88bc",
   "metadata": {},
   "outputs": [],
   "source": [
    "my_dog = Dog()"
   ]
  },
  {
   "cell_type": "code",
   "execution_count": 43,
   "id": "6aa32056-2ddd-4b11-b46c-16c0d9f84d36",
   "metadata": {},
   "outputs": [
    {
     "name": "stdout",
     "output_type": "stream",
     "text": [
      "Animal speaks\n"
     ]
    }
   ],
   "source": [
    "my_dog.speak()"
   ]
  },
  {
   "cell_type": "code",
   "execution_count": 44,
   "id": "831b905f-f5e7-494b-ab26-c88b5d2530d6",
   "metadata": {},
   "outputs": [
    {
     "name": "stdout",
     "output_type": "stream",
     "text": [
      "Dog barks\n"
     ]
    }
   ],
   "source": [
    "my_dog.bark()"
   ]
  },
  {
   "cell_type": "markdown",
   "id": "c13764a4-b0a5-4f61-bb20-9b01b3d520e0",
   "metadata": {},
   "source": [
    "#Multiple inheritance"
   ]
  },
  {
   "cell_type": "markdown",
   "id": "6a08b31c-49b5-46c3-8725-7328651b9e33",
   "metadata": {},
   "source": [
    "#Multilevel inheritance"
   ]
  },
  {
   "cell_type": "code",
   "execution_count": null,
   "id": "cc2898f8-f76d-48ca-a781-ab0c7c297d6e",
   "metadata": {},
   "outputs": [],
   "source": [
    "#Hie"
   ]
  }
 ],
 "metadata": {
  "kernelspec": {
   "display_name": "Python 3 (ipykernel)",
   "language": "python",
   "name": "python3"
  },
  "language_info": {
   "codemirror_mode": {
    "name": "ipython",
    "version": 3
   },
   "file_extension": ".py",
   "mimetype": "text/x-python",
   "name": "python",
   "nbconvert_exporter": "python",
   "pygments_lexer": "ipython3",
   "version": "3.10.8"
  }
 },
 "nbformat": 4,
 "nbformat_minor": 5
}
